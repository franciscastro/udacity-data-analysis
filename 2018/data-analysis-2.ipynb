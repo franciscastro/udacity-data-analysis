{
 "cells": [
  {
   "cell_type": "markdown",
   "metadata": {},
   "source": [
    "## 1: Load data from a csv file"
   ]
  },
  {
   "cell_type": "code",
   "execution_count": 1,
   "metadata": {},
   "outputs": [
    {
     "name": "stdout",
     "output_type": "stream",
     "text": [
      "{u'status': u'canceled', u'is_udacity': u'True', u'is_canceled': u'True', u'join_date': u'2014-11-10', u'account_key': u'448', u'cancel_date': u'2015-01-14', u'days_to_cancel': u'65'}\n",
      "{u'lessons_completed': u'0.0', u'num_courses_visited': u'1.0', u'total_minutes_visited': u'11.6793745', u'projects_completed': u'0.0', u'acct': u'0', u'utc_date': u'2015-01-09'}\n",
      "{u'lesson_key': u'3176718735', u'processing_state': u'EVALUATED', u'account_key': u'256', u'assigned_rating': u'UNGRADED', u'completion_date': u'2015-01-16', u'creation_date': u'2015-01-14'}\n"
     ]
    }
   ],
   "source": [
    "import unicodecsv\n",
    "\n",
    "# File names\n",
    "enrollments_filename = 'enrollments.csv'\n",
    "engagement_filename = 'daily_engagement.csv'\n",
    "submissions_filename = 'project_submissions.csv'\n",
    "\n",
    "# Function: Read .csv file into a list of dicts\n",
    "# Returns a list of dict entries (dataset rows)\n",
    "def read_csv(filename):\n",
    "    with open(filename, 'rb') as f: # Open file for reading\n",
    "        reader = unicodecsv.DictReader(f) # Read each row as a dict\n",
    "        return list(reader) # Return here because exiting with closes the file\n",
    "\n",
    "# List of entries for each dataset\n",
    "enrollments = read_csv(enrollments_filename)\n",
    "daily_engagement = read_csv(engagement_filename)\n",
    "project_submissions = read_csv(submissions_filename)\n",
    "\n",
    "# Check first entries\n",
    "print(enrollments[0])\n",
    "print(daily_engagement[0])\n",
    "print(project_submissions[0])"
   ]
  },
  {
   "cell_type": "markdown",
   "metadata": {},
   "source": [
    "## 2: Fix data types"
   ]
  },
  {
   "cell_type": "code",
   "execution_count": 2,
   "metadata": {},
   "outputs": [],
   "source": [
    "from datetime import datetime as dt\n",
    "\n",
    "# Takes a date as a string and returns a Python datetime object. \n",
    "# Returns None if there is no date given.\n",
    "def parse_date(date):\n",
    "    if date == '':\n",
    "        return None\n",
    "    else:\n",
    "        return dt.strptime(date, '%Y-%m-%d')\n",
    "\n",
    "# Takes a string (either an empty string or represents an integer).\n",
    "# Returns an int if non-empty string, None if empty string.\n",
    "def parse_maybe_int(i):\n",
    "    if i == '':\n",
    "        return None\n",
    "    else:\n",
    "        return int(i)"
   ]
  },
  {
   "cell_type": "code",
   "execution_count": 3,
   "metadata": {},
   "outputs": [
    {
     "data": {
      "text/plain": [
       "{u'account_key': u'448',\n",
       " u'cancel_date': datetime.datetime(2015, 1, 14, 0, 0),\n",
       " u'days_to_cancel': 65,\n",
       " u'is_canceled': True,\n",
       " u'is_udacity': True,\n",
       " u'join_date': datetime.datetime(2014, 11, 10, 0, 0),\n",
       " u'status': u'canceled'}"
      ]
     },
     "execution_count": 3,
     "metadata": {},
     "output_type": "execute_result"
    }
   ],
   "source": [
    "# Clean up the data types in the enrollments table\n",
    "for enrollment in enrollments:\n",
    "    enrollment['cancel_date'] = parse_date(enrollment['cancel_date'])\n",
    "    enrollment['days_to_cancel'] = parse_maybe_int(enrollment['days_to_cancel'])\n",
    "    enrollment['is_canceled'] = enrollment['is_canceled'] == 'True'\n",
    "    enrollment['is_udacity'] = enrollment['is_udacity'] == 'True'\n",
    "    enrollment['join_date'] = parse_date(enrollment['join_date'])\n",
    "    \n",
    "enrollments[0]"
   ]
  },
  {
   "cell_type": "code",
   "execution_count": 4,
   "metadata": {},
   "outputs": [
    {
     "data": {
      "text/plain": [
       "{u'acct': u'0',\n",
       " u'lessons_completed': 0,\n",
       " u'num_courses_visited': 1,\n",
       " u'projects_completed': 0,\n",
       " u'total_minutes_visited': 11.6793745,\n",
       " u'utc_date': datetime.datetime(2015, 1, 9, 0, 0)}"
      ]
     },
     "execution_count": 4,
     "metadata": {},
     "output_type": "execute_result"
    }
   ],
   "source": [
    "# Clean up the data types in the engagement table\n",
    "for engagement_record in daily_engagement:\n",
    "    engagement_record['lessons_completed'] = int(float(engagement_record['lessons_completed'])) # Convert string to float then int\n",
    "    engagement_record['num_courses_visited'] = int(float(engagement_record['num_courses_visited']))\n",
    "    engagement_record['projects_completed'] = int(float(engagement_record['projects_completed']))\n",
    "    engagement_record['total_minutes_visited'] = float(engagement_record['total_minutes_visited'])\n",
    "    engagement_record['utc_date'] = parse_date(engagement_record['utc_date'])\n",
    "    \n",
    "daily_engagement[0]"
   ]
  },
  {
   "cell_type": "code",
   "execution_count": 5,
   "metadata": {},
   "outputs": [
    {
     "data": {
      "text/plain": [
       "{u'account_key': u'256',\n",
       " u'assigned_rating': u'UNGRADED',\n",
       " u'completion_date': datetime.datetime(2015, 1, 16, 0, 0),\n",
       " u'creation_date': datetime.datetime(2015, 1, 14, 0, 0),\n",
       " u'lesson_key': u'3176718735',\n",
       " u'processing_state': u'EVALUATED'}"
      ]
     },
     "execution_count": 5,
     "metadata": {},
     "output_type": "execute_result"
    }
   ],
   "source": [
    "# Clean up the data types in the submissions table\n",
    "for submission in project_submissions:\n",
    "    submission['completion_date'] = parse_date(submission['completion_date'])\n",
    "    submission['creation_date'] = parse_date(submission['creation_date'])\n",
    "\n",
    "project_submissions[0]"
   ]
  },
  {
   "cell_type": "markdown",
   "metadata": {},
   "source": [
    "## 3: Rename keys in list of dicts"
   ]
  },
  {
   "cell_type": "code",
   "execution_count": 6,
   "metadata": {},
   "outputs": [
    {
     "data": {
      "text/plain": [
       "{'account_key': u'0',\n",
       " u'lessons_completed': 0,\n",
       " u'num_courses_visited': 1,\n",
       " u'projects_completed': 0,\n",
       " u'total_minutes_visited': 11.6793745,\n",
       " u'utc_date': datetime.datetime(2015, 1, 9, 0, 0)}"
      ]
     },
     "execution_count": 6,
     "metadata": {},
     "output_type": "execute_result"
    }
   ],
   "source": [
    "# For each entry (dicts) in daily_engagement, \n",
    "# Create 'account_key' key and delete 'acct' key\n",
    "for entry in daily_engagement:\n",
    "    entry['account_key'] = entry['acct']\n",
    "    del[entry['acct']]\n",
    "\n",
    "# Show updated key\n",
    "daily_engagement[0]"
   ]
  },
  {
   "cell_type": "markdown",
   "metadata": {},
   "source": [
    "## 4: Investigate the data\n",
    "\n",
    "1. Find the total number of rows in each table\n",
    "2. Find the total number of unique students (account keys) in each table"
   ]
  },
  {
   "cell_type": "code",
   "execution_count": 10,
   "metadata": {},
   "outputs": [
    {
     "name": "stdout",
     "output_type": "stream",
     "text": [
      "Unique students:\n",
      "('Enrollments', 1302)\n",
      "('Daily engagement', 1237)\n",
      "('Project submissions', 743)\n",
      "\n",
      "Total rows:\n",
      "('Enrollments', 1640)\n",
      "('Daily engagement', 136240)\n",
      "('Project submissions', 3642)\n"
     ]
    }
   ],
   "source": [
    "# Takes a list of dictionaries\n",
    "# Returns a set of the unique students in the list input\n",
    "def get_unique_students(data_list):\n",
    "    unique_students = set() # Create empty set\n",
    "    for entry in data_list:\n",
    "        unique_students.add(entry['account_key'])\n",
    "    return unique_students\n",
    "\n",
    "# Show unique students in each table\n",
    "print(\"Unique students:\")\n",
    "print(\"Enrollments\", len(get_unique_students(enrollments)))\n",
    "print(\"Daily engagement\", len(get_unique_students(daily_engagement)))\n",
    "print(\"Project submissions\", len(get_unique_students(project_submissions)))\n",
    "\n",
    "# Show total number of rows in each table\n",
    "print(\"\\nTotal rows:\")\n",
    "print(\"Enrollments\", len(enrollments))\n",
    "print(\"Daily engagement\", len(daily_engagement))\n",
    "print(\"Project submissions\", len(project_submissions))"
   ]
  },
  {
   "cell_type": "markdown",
   "metadata": {},
   "source": [
    "## 5.1: Identify problem cases in the data\n",
    "- Student records in enrollment data with no corresponding engagement record"
   ]
  },
  {
   "cell_type": "code",
   "execution_count": 22,
   "metadata": {},
   "outputs": [
    {
     "name": "stdout",
     "output_type": "stream",
     "text": [
      "71\n",
      "{u'status': u'canceled', u'is_udacity': False, u'is_canceled': True, u'join_date': datetime.datetime(2014, 11, 12, 0, 0), u'account_key': u'1219', u'cancel_date': datetime.datetime(2014, 11, 12, 0, 0), u'days_to_cancel': 0}\n"
     ]
    }
   ],
   "source": [
    "# Identify enrollment records with no corresponding engagement record\n",
    "\n",
    "# Get set of unique students in engagement\n",
    "unique_studs_engagement = get_unique_students(daily_engagement)\n",
    "\n",
    "# New list for no-engagement studs\n",
    "no_engagement_studs = []\n",
    "\n",
    "# For each entry in enrollments, \n",
    "# get entries not in set of students in engagements data\n",
    "for entry in enrollments:\n",
    "    student = entry['account_key']\n",
    "    if student not in unique_studs_engagement:\n",
    "        no_engagement_studs.append(entry)\n",
    "\n",
    "# Print number of studs with no engagement\n",
    "print(len(no_engagement_studs))\n",
    "\n",
    "# Print example of students with no engagement record\n",
    "print(no_engagement_studs[0])"
   ]
  },
  {
   "cell_type": "code",
   "execution_count": 27,
   "metadata": {},
   "outputs": [
    {
     "name": "stdout",
     "output_type": "stream",
     "text": [
      "3\n",
      "{u'status': u'canceled', u'is_udacity': True, u'is_canceled': True, u'join_date': datetime.datetime(2015, 1, 10, 0, 0), u'account_key': u'1304', u'cancel_date': datetime.datetime(2015, 3, 10, 0, 0), u'days_to_cancel': 59}\n"
     ]
    }
   ],
   "source": [
    "# Get student enrollment records for which days_to_cancel is not zero\n",
    "\n",
    "# New list for non-zero days_to_cancel students\n",
    "no_engagement_studs_weird = list()\n",
    "\n",
    "# For each entry in no_engagement_studs,\n",
    "# get entries for which days_to_cancel is not zero\n",
    "for entry in no_engagement_studs:\n",
    "    if entry['days_to_cancel'] != 0:\n",
    "        no_engagement_studs_weird.append(entry)\n",
    "\n",
    "# Print number of studs with weird case\n",
    "print(len(no_engagement_studs_weird))\n",
    "\n",
    "# Print example of students with weird case\n",
    "print(no_engagement_studs_weird[0])"
   ]
  },
  {
   "cell_type": "markdown",
   "metadata": {},
   "source": [
    "## 5.2: Identify problem cases in the data\n",
    "1. Identify entries in enrollment data that are Udacity test accounts\n",
    "2. Clear all Udacity test accounts from datasets"
   ]
  },
  {
   "cell_type": "code",
   "execution_count": 28,
   "metadata": {},
   "outputs": [
    {
     "data": {
      "text/plain": [
       "{u'1069', u'1101', u'1304', u'312', u'448', u'818'}"
      ]
     },
     "execution_count": 28,
     "metadata": {},
     "output_type": "execute_result"
    }
   ],
   "source": [
    "# Set of account_key-s for Udacity test accounts\n",
    "udacity_test_acct_set = set()\n",
    "\n",
    "# For each enrollments entry, check if udacity test account\n",
    "for entry in enrollments:\n",
    "    if entry['is_udacity']:\n",
    "        udacity_test_acct_set.add(entry['account_key'])\n",
    "\n",
    "# Show udacity test accounts\n",
    "udacity_test_acct_set"
   ]
  },
  {
   "cell_type": "code",
   "execution_count": 29,
   "metadata": {},
   "outputs": [
    {
     "name": "stdout",
     "output_type": "stream",
     "text": [
      "1622\n",
      "135656\n",
      "3634\n"
     ]
    }
   ],
   "source": [
    "# Function: Takes in a dataset (list of dicts)\n",
    "# Returns dataset with Udacity accounts removed\n",
    "\n",
    "def remove_udacity_accounts(dataset):\n",
    "    non_udacity_data = [] # New list for non-udacity data\n",
    "    for entry in dataset:\n",
    "        if entry['account_key'] not in udacity_test_acct_set:\n",
    "            non_udacity_data.append(entry)\n",
    "    return non_udacity_data\n",
    "\n",
    "non_udacity_enrollments = remove_udacity_accounts(enrollments)\n",
    "non_udacity_engagements = remove_udacity_accounts(daily_engagement)\n",
    "non_udacity_submissions = remove_udacity_accounts(project_submissions)\n",
    "\n",
    "print(len(non_udacity_enrollments))\n",
    "print(len(non_udacity_engagements))\n",
    "print(len(non_udacity_submissions))"
   ]
  },
  {
   "cell_type": "code",
   "execution_count": null,
   "metadata": {},
   "outputs": [],
   "source": []
  }
 ],
 "metadata": {
  "kernelspec": {
   "display_name": "Python 2",
   "language": "python",
   "name": "python2"
  },
  "language_info": {
   "codemirror_mode": {
    "name": "ipython",
    "version": 2
   },
   "file_extension": ".py",
   "mimetype": "text/x-python",
   "name": "python",
   "nbconvert_exporter": "python",
   "pygments_lexer": "ipython2",
   "version": "2.7.14"
  }
 },
 "nbformat": 4,
 "nbformat_minor": 2
}
